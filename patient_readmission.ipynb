# ==============================
# 🏥 AI for Patient Readmission Prediction
# Complete AI Development Workflow
# ==============================

# --- 📘 Problem Scope (Markdown Explanation) ---
from IPython.display import Markdown
Markdown("""
## Problem Scope
**Problem:** A hospital needs an AI system that predicts whether a patient is at risk of being readmitted within 30 days of discharge.  
**Objective:** Reduce readmission rates, improve care quality, and optimize resource allocation.  
**Stakeholders:** Hospital administration, healthcare providers, patients, IT and data teams.
""")

# --- 📊 Data Strategy ---
import pandas as pd
import numpy as np
from sklearn.model_selection import train_test_split
from sklearn.preprocessing import StandardScaler

# Simulated patient dataset
np.random.seed(42)
data = pd.DataFrame({
    "age": np.random.randint(18, 90, 300),
    "hospital_stay_days": np.random.randint(1, 20, 300),
    "num_lab_procedures": np.random.randint(10, 80, 300),
    "num_medications": np.random.randint(1, 20, 300),
    "previous_admissions": np.random.randint(0, 5, 300),
    "diagnosis_code": np.random.randint(1, 10, 300),
    "readmitted_30days": np.random.choice([0, 1], 300, p=[0.7, 0.3])
})
data.to_csv("your_dataset.csv", index=False)  # optional dataset copy
data.head()

# Ethical concerns
Markdown("""
### Ethical Concerns
1. **Patient Privacy:** Ensure anonymization and compliance with data protection regulations (HIPAA).  
2. **Data Bias:** Unequal representation of demographics could lead to unfair risk scores.
""")

# --- ⚙️ Preprocessing Pipeline ---
features = data.drop("readmitted_30days", axis=1)
target = data["readmitted_30days"]

X_train, X_test, y_train, y_test = train_test_split(features, target, test_size=0.2, random_state=42)

scaler = StandardScaler()
X_train_scaled = scaler.fit_transform(X_train)
X_test_scaled = scaler.transform(X_test)

# --- 🤖 Model Development ---
from sklearn.ensemble import RandomForestClassifier
from sklearn.metrics import confusion_matrix, classification_report, precision_score, recall_score, accuracy_score
import matplotlib.pyplot as plt
import seaborn as sns

model = RandomForestClassifier(random_state=42)
model.fit(X_train_scaled, y_train)
y_pred = model.predict(X_test_scaled)

# Confusion matrix
cm = confusion_matrix(y_test, y_pred)
plt.figure(figsize=(5,4))
sns.heatmap(cm, annot=True, fmt='d', cmap='Blues')
plt.title("Confusion Matrix")
plt.xlabel("Predicted")
plt.ylabel("Actual")
plt.show()

# Precision, Recall, Accuracy
precision = precision_score(y_test, y_pred)
recall = recall_score(y_test, y_pred)
accuracy = accuracy_score(y_test, y_pred)

print(f"Precision: {precision:.2f}")
print(f"Recall: {recall:.2f}")
print(f"Accuracy: {accuracy:.2f}")

# --- 📤 Export predictions and metrics ---
results_df = X_test.copy()
results_df["Actual_Readmission"] = y_test.values
results_df["Predicted_Readmission"] = y_pred
results_df.to_csv("predictions_results.csv", index=False)

metrics = pd.DataFrame({
    "Metric": ["Precision", "Recall", "Accuracy"],
    "Score": [precision, recall, accuracy]
})
metrics.to_csv("model_metrics.csv", index=False)
print("\n✅ Exported 'predictions_results.csv' and 'model_metrics.csv'")

# --- 🚀 Deployment Plan ---
Markdown("""
### Deployment Plan
1. **Integration:** Connect model to hospital's Electronic Health Records (EHR) for real-time prediction at discharge.  
2. **Monitoring:** Continuously track prediction accuracy and false alarms.  
3. **Compliance:**  
   - Follow HIPAA for secure data storage and transmission.  
   - Restrict model access to authorized hospital staff.
""")

# --- 🧠 Optimization (Overfitting Solution) ---
Markdown("""
### Optimization
To address **overfitting**, apply **cross-validation** or reduce model complexity by limiting tree depth in RandomForest.
""")

# --- 💬 Ethics & Bias ---
Markdown("""
## Ethics & Bias
Biased data (e.g., underrepresentation of older patients) can cause inaccurate risk predictions and unfair treatment.  
**Mitigation Strategy:** Perform bias detection audits and re-balance datasets using sampling or weighting.
""")

# --- ⚖️ Trade-offs ---
Markdown("""
## Trade-offs
- **Interpretability vs Accuracy:** Simpler models (like Logistic Regression) are easier to explain but may be less accurate than complex ones (like RandomForest).  
- **Limited Resources:** If computing power is low, prefer lightweight models such as Logistic Regression or Decision Tree over deep learning models.
""")

# --- ✨ Reflection ---
Markdown("""
## Reflection
**Most challenging part:** Designing the preprocessing pipeline and balancing model performance with interpretability.  
**Improvement with more resources:** Access to real EHR data and better compute power for hyperparameter tuning.
""")

# --- 📈 Workflow Diagram (text version) ---
Markdown("""
## AI Development Workflow Diagram (Text)
1. Problem Definition  
2. Data Collection & Understanding  
3. Data Preprocessing  
4. Model Training  
5. Evaluation  
6. Deployment  
7. Monitoring & Optimization  
""")

print("\n✅ All steps completed successfully!")
